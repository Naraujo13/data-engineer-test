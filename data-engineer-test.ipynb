{
 "cells": [
  {
   "cell_type": "markdown",
   "metadata": {},
   "source": [
    "## Teste para Engenheiro de Dados - Indeorum\n",
    "### Candidato: Victor Barros\n"
   ]
  },
  {
   "cell_type": "markdown",
   "metadata": {},
   "source": [
    "##### Install Libraries"
   ]
  },
  {
   "cell_type": "code",
   "execution_count": 1,
   "metadata": {},
   "outputs": [
    {
     "name": "stdout",
     "output_type": "stream",
     "text": [
      "Requirement already satisfied: pandas in /usr/local/lib/python2.7/site-packages (0.24.1)\n",
      "Requirement already satisfied: python-dateutil>=2.5.0 in /usr/local/lib/python2.7/site-packages (from pandas) (2.7.3)\n",
      "Requirement already satisfied: numpy>=1.12.0 in /usr/local/lib/python2.7/site-packages (from pandas) (1.15.0)\n",
      "Requirement already satisfied: pytz>=2011k in /usr/local/lib/python2.7/site-packages (from pandas) (2018.5)\n",
      "Requirement already satisfied: six>=1.5 in /usr/local/lib/python2.7/site-packages (from python-dateutil>=2.5.0->pandas) (1.11.0)\n",
      "Requirement already satisfied: fuzzywuzzy in /usr/local/lib/python2.7/site-packages (0.17.0)\n",
      "Requirement already satisfied: fuzzywuzzy[speedup] in /usr/local/lib/python2.7/site-packages (0.17.0)\n",
      "Requirement already satisfied: python-levenshtein>=0.12; extra == \"speedup\" in /usr/local/lib/python2.7/site-packages (from fuzzywuzzy[speedup]) (0.12.0)\n",
      "Requirement already satisfied: setuptools in /usr/local/lib/python2.7/site-packages (from python-levenshtein>=0.12; extra == \"speedup\"->fuzzywuzzy[speedup]) (40.6.3)\n"
     ]
    }
   ],
   "source": [
    "!pip install pandas\n",
    "!pip install fuzzywuzzy\n",
    "!pip install fuzzywuzzy[speedup]\n"
   ]
  },
  {
   "cell_type": "markdown",
   "metadata": {},
   "source": [
    "##### PyLibraries"
   ]
  },
  {
   "cell_type": "code",
   "execution_count": 179,
   "metadata": {},
   "outputs": [],
   "source": [
    "import pandas as pd\n",
    "from fuzzywuzzy import fuzz\n",
    "from fuzzywuzzy import process"
   ]
  },
  {
   "cell_type": "markdown",
   "metadata": {},
   "source": [
    "##### Loading Dataset"
   ]
  },
  {
   "cell_type": "code",
   "execution_count": 180,
   "metadata": {},
   "outputs": [],
   "source": [
    "df = pd.read_csv('data.tsv', sep ='\\t')"
   ]
  },
  {
   "cell_type": "markdown",
   "metadata": {},
   "source": [
    "##### Get Table Information\n"
   ]
  },
  {
   "cell_type": "code",
   "execution_count": 181,
   "metadata": {},
   "outputs": [
    {
     "data": {
      "text/plain": [
       "(157482, 7)"
      ]
     },
     "execution_count": 181,
     "metadata": {},
     "output_type": "execute_result"
    }
   ],
   "source": [
    "df.shape"
   ]
  },
  {
   "cell_type": "code",
   "execution_count": 182,
   "metadata": {},
   "outputs": [
    {
     "data": {
      "text/plain": [
       "Index(['name', 'jobs', 'start_end', 'institution', 'production',\n",
       "       'publication_date', 'type'],\n",
       "      dtype='object')"
      ]
     },
     "execution_count": 182,
     "metadata": {},
     "output_type": "execute_result"
    }
   ],
   "source": [
    "df.columns"
   ]
  },
  {
   "cell_type": "code",
   "execution_count": 183,
   "metadata": {},
   "outputs": [
    {
     "data": {
      "text/plain": [
       "name                object\n",
       "jobs                object\n",
       "start_end           object\n",
       "institution         object\n",
       "production          object\n",
       "publication_date    object\n",
       "type                object\n",
       "dtype: object"
      ]
     },
     "execution_count": 183,
     "metadata": {},
     "output_type": "execute_result"
    }
   ],
   "source": [
    "df.dtypes"
   ]
  },
  {
   "cell_type": "code",
   "execution_count": 184,
   "metadata": {},
   "outputs": [
    {
     "name": "stdout",
     "output_type": "stream",
     "text": [
      "<class 'pandas.core.frame.DataFrame'>\n",
      "RangeIndex: 157482 entries, 0 to 157481\n",
      "Data columns (total 7 columns):\n",
      "name                157482 non-null object\n",
      "jobs                157482 non-null object\n",
      "start_end           157482 non-null object\n",
      "institution         157482 non-null object\n",
      "production          157482 non-null object\n",
      "publication_date    157482 non-null object\n",
      "type                157482 non-null object\n",
      "dtypes: object(7)\n",
      "memory usage: 8.4+ MB\n"
     ]
    }
   ],
   "source": [
    "df.info()"
   ]
  },
  {
   "cell_type": "markdown",
   "metadata": {},
   "source": [
    "##### Cleaning and Tidying Data"
   ]
  },
  {
   "cell_type": "markdown",
   "metadata": {},
   "source": [
    "##### * Adjusting the datatime * "
   ]
  },
  {
   "cell_type": "code",
   "execution_count": 185,
   "metadata": {},
   "outputs": [],
   "source": [
    "df['publication_date'] = pd.to_datetime(df.publication_date)"
   ]
  },
  {
   "cell_type": "markdown",
   "metadata": {},
   "source": [
    "##### * First letter of a lowercase string - Column 'Type' * "
   ]
  },
  {
   "cell_type": "code",
   "execution_count": 186,
   "metadata": {},
   "outputs": [],
   "source": [
    "df['type'] = df['type'].str.capitalize()"
   ]
  },
  {
   "cell_type": "markdown",
   "metadata": {},
   "source": [
    "##### * Separating start and end columns- Column 'start_end' * "
   ]
  },
  {
   "cell_type": "code",
   "execution_count": 187,
   "metadata": {},
   "outputs": [],
   "source": [
    "df[['start','end']] = df.start_end.str.split(\"|\",expand=True,)"
   ]
  },
  {
   "cell_type": "markdown",
   "metadata": {},
   "source": [
    "##### * Deleting column start_end* \n",
    "\n"
   ]
  },
  {
   "cell_type": "code",
   "execution_count": 188,
   "metadata": {},
   "outputs": [],
   "source": [
    "df.drop(df.columns[[2]], axis=1, inplace=True)"
   ]
  },
  {
   "cell_type": "markdown",
   "metadata": {},
   "source": [
    " ##### * Data cleaning words from column type (Article, Journal, Other, Book) * "
   ]
  },
  {
   "cell_type": "code",
   "execution_count": null,
   "metadata": {},
   "outputs": [],
   "source": []
  },
  {
   "cell_type": "markdown",
   "metadata": {},
   "source": [
    "##### * Adjusting columns 'jobs' - delete comma * "
   ]
  },
  {
   "cell_type": "code",
   "execution_count": 189,
   "metadata": {},
   "outputs": [],
   "source": [
    "df['jobs'] = df['jobs'].replace(',', '', regex=True)"
   ]
  },
  {
   "cell_type": "code",
   "execution_count": 190,
   "metadata": {},
   "outputs": [
    {
     "name": "stdout",
     "output_type": "stream",
     "text": [
      "                      name                                               jobs  \\\n",
      "0                   Alexis                                   Insurance broker   \n",
      "1                    Brian                                        Interpreter   \n",
      "2           Rebecca Duncan                         Geophysical data processor   \n",
      "3                   Joanne                                     Futures trader   \n",
      "4                   Justin                             Therapist occupational   \n",
      "5             Emma Wheeler                           Counselling psychologist   \n",
      "6                    Henry                          Surveyor building control   \n",
      "7       Christopher Wilson                    Psychologist sport and exercise   \n",
      "8             Kiara Flores                                            Surgeon   \n",
      "9               Craig Hood                                  Drilling engineer   \n",
      "10                 Cameron                                 Professor Emeritus   \n",
      "11           Ashley Harris             Scientist research (physical sciences)   \n",
      "12                 Raymond                                   Designer graphic   \n",
      "13          Michelle Brown                                    Hospital doctor   \n",
      "14                   James                                     Office manager   \n",
      "15                  Joseph                            General practice doctor   \n",
      "16            Erin Maxwell                                    Surveyor mining   \n",
      "17      Desiree Cunningham                                 Materials engineer   \n",
      "18                 Jessica                             Financial risk analyst   \n",
      "19            David Newman                           Insurance claims handler   \n",
      "20         Lucas Dickerson                                Engineer production   \n",
      "21                     Tom                            Horticultural therapist   \n",
      "22                    John                               Pharmacist community   \n",
      "23           Ashley Powell                                Automotive engineer   \n",
      "24          Luke Singleton                            Teacher adult education   \n",
      "25        Jonathan Stevens                                Information officer   \n",
      "26                    Lori                                    Energy engineer   \n",
      "27                 Kathryn                                  Medical secretary   \n",
      "28                    Sean                      Operational investment banker   \n",
      "29                   Aimee                                          Economist   \n",
      "...                    ...                                                ...   \n",
      "157452                Luke                               Broadcast journalist   \n",
      "157453           Elizabeth                                       Photographer   \n",
      "157454            Jennifer                               Newspaper journalist   \n",
      "157455         Christopher                           Local government officer   \n",
      "157456               Brent                        Investment banker corporate   \n",
      "157457          Jamie Ross                                    Records manager   \n",
      "157458                Ruth                                 Personal assistant   \n",
      "157459            Victoria                                 Restaurant manager   \n",
      "157460       Kristen Jones                                Seismic interpreter   \n",
      "157461        Lance Wilson                        Administrator Civil Service   \n",
      "157462             Colleen                          Psychologist occupational   \n",
      "157463                John                                         Printmaker   \n",
      "157464              Teresa                                Landscape architect   \n",
      "157465         Misty Brown                                   Financial trader   \n",
      "157466            Victoria  Historic buildings inspector/conservation officer   \n",
      "157467              Joseph                         Further education lecturer   \n",
      "157468                Seth                                 Broadcast engineer   \n",
      "157469     Donna Maldonado                                Animal nutritionist   \n",
      "157470             Michael                          Medical technical officer   \n",
      "157471        Scott Joseph                            Teacher adult education   \n",
      "157472        James Keller                             Politician's assistant   \n",
      "157473          Alexandria                                 Wellsite geologist   \n",
      "157474               James                 Social research officer government   \n",
      "157475              Shelly                               Community pharmacist   \n",
      "157476               Kelly                                          Architect   \n",
      "157477               Jared                           Psychologist educational   \n",
      "157478     Patricia Harris                                 Engineer petroleum   \n",
      "157479       Kristen Green                                             Dealer   \n",
      "157480            Jennifer                                 Field seismologist   \n",
      "157481     Veronica Fisher                                        Proofreader   \n",
      "\n",
      "                                            institution  \\\n",
      "0                               Faulkner-Fox University   \n",
      "1                       Reynolds PLC Research Institute   \n",
      "2                            Morris-Copeland University   \n",
      "3                Robertson, Edwards and Wang University   \n",
      "4                                  Robinson LLC Company   \n",
      "5                     Brown-Williams Research Institute   \n",
      "6                         Thomas Ltd Research Institute   \n",
      "7                                  Jordan-Watts Company   \n",
      "8                        West-Walton Research Institute   \n",
      "9                              Obrien-Bailey University   \n",
      "10                   Perez, Hood and Herring University   \n",
      "11                   Day, Lindsey and Garner University   \n",
      "12                      Hanson-Young Research Institute   \n",
      "13               Fisher, Vaughn and Anderson University   \n",
      "14                 Freeman, Mccoy and Martin University   \n",
      "15                                Olsen-Hill University   \n",
      "16            Ferguson, Patterson and Hughes University   \n",
      "17                              Patterson Group Company   \n",
      "18                                 Ingram-Green Company   \n",
      "19               Mcdonald, Castro and Moreno University   \n",
      "20              Wallace, Lopez and Patterson University   \n",
      "21                             Alexander LLC University   \n",
      "22                    Moody, Mccarty and Lee University   \n",
      "23      Bradford, Roach and Williams Research Institute   \n",
      "24                  Bradford, Jordan and Sparks Company   \n",
      "25                                    Stark Ltd Company   \n",
      "26                   Payne, Newman and Mccoy University   \n",
      "27                                    White PLC Company   \n",
      "28                             Olsen-Johnson University   \n",
      "29                  Thompson, Moore and Jackson Company   \n",
      "...                                                 ...   \n",
      "157452                             Russo-Nguyen Company   \n",
      "157453                               Cruz-Davis Company   \n",
      "157454                   Anthony Ltd Research Institute   \n",
      "157455                   Smith Group Research Institute   \n",
      "157456              Gentry-Davenport Research Institute   \n",
      "157457                 Hawkins, Gross and Young Company   \n",
      "157458                  Johnson-Reed Research Institute   \n",
      "157459                          Bailey-Mckee University   \n",
      "157460                  Greene Group Research Institute   \n",
      "157461      Jones, Cooper and Murphy Research Institute   \n",
      "157462    Soto, Martinez and Brennan Research Institute   \n",
      "157463                 Lee, Wong and Aguilar University   \n",
      "157464               Barber, Simmons and Turner Company   \n",
      "157465                           Baker and Sons Company   \n",
      "157466                           Evans Group University   \n",
      "157467                               Parker Inc Company   \n",
      "157468                    Huff, Greer and Adams Company   \n",
      "157469                        Lopez and Sons University   \n",
      "157470                   Barnes-Frey Research Institute   \n",
      "157471        Jones, Payne and Smith Research Institute   \n",
      "157472                        Garcia-Preston University   \n",
      "157473                           Mahoney PLC University   \n",
      "157474                    Bates-Chan Research Institute   \n",
      "157475                           Brock-Drake University   \n",
      "157476                               Briggs Ltd Company   \n",
      "157477                     Moore Inc Research Institute   \n",
      "157478    Butler, Matthews and Gross Research Institute   \n",
      "157479                          Mckinney Ltd University   \n",
      "157480                         Hutchinson-Lyons Company   \n",
      "157481        Brown, Rose and Harris Research Institute   \n",
      "\n",
      "                                               production publication_date  \\\n",
      "0                             Phased impactful capability       1994-12-17   \n",
      "1                          Multi-layered hybrid moderator       1978-08-03   \n",
      "2             Optional real-time Graphical User Interface       2016-09-01   \n",
      "3                               Universal tertiary access       2007-04-29   \n",
      "4                          Optional empowering monitoring       2017-06-03   \n",
      "5                        Implemented encompassing project       2018-09-30   \n",
      "6                           Devolved mobile knowledgebase       2009-08-13   \n",
      "7       Secured context-sensitive artificial intelligence       2018-11-08   \n",
      "8                       Compatible national system engine       2016-12-23   \n",
      "9           Mandatory zero administration functionalities       2014-01-15   \n",
      "10                      Up-sized bottom-line productivity       1973-03-25   \n",
      "11                    Stand-alone human-resource encoding       2015-12-30   \n",
      "12                           Distributed hybrid benchmark       1974-05-16   \n",
      "13              Virtual upward-trending pricing structure       2017-10-19   \n",
      "14                          Polarized system-worthy array       2004-09-15   \n",
      "15                           Programmable 24/7 task-force       1999-06-11   \n",
      "16                    Versatile composite functionalities       2009-05-13   \n",
      "17                 User-friendly bi-directional moderator       2011-10-09   \n",
      "18                  User-friendly holistic data-warehouse       1971-01-08   \n",
      "19                   Open-source encompassing flexibility       2012-03-20   \n",
      "20                      Digitized object-oriented concept       2009-03-05   \n",
      "21                          Focused zero-defect groupware       2014-08-08   \n",
      "22                               Automated background hub       2002-08-24   \n",
      "23                 Exclusive clear-thinking orchestration       2009-05-28   \n",
      "24                      Persistent intangible flexibility       2017-08-20   \n",
      "25                   Multi-channeled incremental analyzer       2014-04-22   \n",
      "26                         Innovative optimizing capacity       1972-04-08   \n",
      "27                      Persistent radical implementation       1973-12-04   \n",
      "28                    Implemented cohesive superstructure       1972-07-11   \n",
      "29                     Re-engineered motivating help-desk       1988-08-23   \n",
      "...                                                   ...              ...   \n",
      "157452                  Diverse 3rdgeneration focus group       1989-10-13   \n",
      "157453                    Focused user-facing flexibility       2011-02-08   \n",
      "157454                     Compatible systemic middleware       2014-12-31   \n",
      "157455                  Intuitive 6thgeneration emulation       2008-09-20   \n",
      "157456  Reverse-engineered bandwidth-monitored Interne...       2010-05-08   \n",
      "157457                 Right-sized client-driven paradigm       2012-02-28   \n",
      "157458                 Stand-alone web-enabled throughput       1996-02-02   \n",
      "157459            Extended zero administration initiative       2008-08-21   \n",
      "157460                 Ameliorated zero-defect middleware       2017-01-14   \n",
      "157461        Fully-configurable non-volatile contingency       2017-12-22   \n",
      "157462                           Versatile 24/7 moderator       1978-06-03   \n",
      "157463       Re-engineered solution-oriented architecture       1989-11-25   \n",
      "157464                  Ameliorated executive flexibility       2008-05-31   \n",
      "157465                         Function-based 24/7 matrix       2009-06-08   \n",
      "157466                   User-centric static productivity       1998-10-20   \n",
      "157467                      Ameliorated executive website       1973-04-27   \n",
      "157468                 Integrated content-based migration       1971-05-20   \n",
      "157469       Upgradable 4thgeneration process improvement       2016-09-10   \n",
      "157470                      Devolved uniform architecture       1979-08-21   \n",
      "157471                   Function-based holistic encoding       2015-06-03   \n",
      "157472        Reverse-engineered fresh-thinking groupware       2012-07-13   \n",
      "157473                  Distributed user-facing challenge       2002-09-20   \n",
      "157474                       Monitored user-facing portal       1997-08-14   \n",
      "157475                  Quality-focused maximized success       1992-09-18   \n",
      "157476                Function-based bottom-line software       2012-07-13   \n",
      "157477                 Fully-configurable mobile forecast       1975-10-10   \n",
      "157478                  Distributed value-added interface       2017-01-13   \n",
      "157479                     Profound foreground time-frame       2015-09-13   \n",
      "157480                     Profound intermediate encoding       2006-03-31   \n",
      "157481                         Phased optimizing hardware       2017-08-21   \n",
      "\n",
      "           type       start         end  \n",
      "0       Journal  2008-09-10        nill  \n",
      "1         Other  2009-11-28        nill  \n",
      "2       Article  2010-05-21  2018-05-28  \n",
      "3       Journal  2009-09-14        nill  \n",
      "4        Jornal  2008-05-14        nill  \n",
      "5         Other  2011-01-16  2017-05-28  \n",
      "6         Other  2008-05-09        nill  \n",
      "7          Book  2009-12-02  2018-11-13  \n",
      "8       Journal  2010-05-27  2014-04-14  \n",
      "9          Book  2012-10-21  2014-05-02  \n",
      "10         Book  2011-02-06        nill  \n",
      "11         Book  2010-05-03  2015-04-19  \n",
      "12       Jornal  2012-05-19        nill  \n",
      "13        Other  2008-05-13  2015-08-09  \n",
      "14       Jornal  2008-04-02        nill  \n",
      "15        Other  2009-09-04        nill  \n",
      "16         Book  2009-01-05  2015-03-15  \n",
      "17         Book  2011-01-19  2017-01-19  \n",
      "18      Journal  2012-12-27        nill  \n",
      "19      Artilce  2010-01-11  2015-07-10  \n",
      "20      Journal  2010-11-02  2015-10-27  \n",
      "21      Article  2010-09-20        nill  \n",
      "22      Article  2009-12-05        nill  \n",
      "23      Article  2008-06-18  2014-04-20  \n",
      "24      Artilce  2012-06-10  2018-10-12  \n",
      "25      Artilce  2008-07-29  2017-03-01  \n",
      "26         Book  2013-01-22        nill  \n",
      "27      Article  2012-10-29        nill  \n",
      "28      Article  2011-04-26        nill  \n",
      "29      Artilce  2011-04-06        nill  \n",
      "...         ...         ...         ...  \n",
      "157452  Journal  2009-03-21        nill  \n",
      "157453  Artilce  2009-10-21        nill  \n",
      "157454     Book  2010-03-10        nill  \n",
      "157455  Artilce  2013-02-06        nill  \n",
      "157456    Other  2011-07-18        nill  \n",
      "157457  Journal  2010-03-28  2018-04-25  \n",
      "157458  Article  2011-01-17        nill  \n",
      "157459   Jornal  2012-01-04        nill  \n",
      "157460    Other  2008-05-27  2017-06-07  \n",
      "157461  Journal  2009-10-11  2017-05-12  \n",
      "157462   Jornal  2012-01-19        nill  \n",
      "157463     Book  2010-05-22        nill  \n",
      "157464  Artilce  2011-11-18        nill  \n",
      "157465  Article  2008-03-12  2015-01-24  \n",
      "157466  Journal  2009-02-05        nill  \n",
      "157467    Other  2012-09-04        nill  \n",
      "157468    Other  2010-04-28        nill  \n",
      "157469  Journal  2009-09-02  2016-06-09  \n",
      "157470   Jornal  2009-02-06        nill  \n",
      "157471  Article  2009-06-30  2014-08-16  \n",
      "157472    Other  2010-02-26  2016-05-18  \n",
      "157473  Article  2008-05-25        nill  \n",
      "157474  Article  2012-05-03        nill  \n",
      "157475    Other  2010-07-30        nill  \n",
      "157476     Book  2013-01-01        nill  \n",
      "157477  Journal  2012-09-05        nill  \n",
      "157478  Journal  2008-12-26  2016-01-23  \n",
      "157479  Artilce  2012-10-20  2016-02-24  \n",
      "157480  Artilce  2010-11-07        nill  \n",
      "157481    Other  2008-04-24  2014-07-22  \n",
      "\n",
      "[157482 rows x 8 columns]\n"
     ]
    }
   ],
   "source": [
    "print (df)"
   ]
  },
  {
   "cell_type": "code",
   "execution_count": null,
   "metadata": {},
   "outputs": [],
   "source": []
  }
 ],
 "metadata": {
  "kernelspec": {
   "display_name": "Python 3",
   "language": "python",
   "name": "python3"
  },
  "language_info": {
   "codemirror_mode": {
    "name": "ipython",
    "version": 3
   },
   "file_extension": ".py",
   "mimetype": "text/x-python",
   "name": "python",
   "nbconvert_exporter": "python",
   "pygments_lexer": "ipython3",
   "version": "3.7.2"
  }
 },
 "nbformat": 4,
 "nbformat_minor": 2
}
