{
 "cells": [
  {
   "cell_type": "markdown",
   "metadata": {},
   "source": [
    "## Teste para Engenheiro de Dados - Indeorum\n",
    "### Candidato: Victor Barros\n"
   ]
  },
  {
   "cell_type": "markdown",
   "metadata": {},
   "source": [
    "##### Install Libraries"
   ]
  },
  {
   "cell_type": "code",
   "execution_count": null,
   "metadata": {},
   "outputs": [],
   "source": [
    "!pip install pandas\n",
    "!pip install fuzzywuzzy\n",
    "!pip install fuzzywuzzy[speedup]"
   ]
  },
  {
   "cell_type": "markdown",
   "metadata": {},
   "source": [
    "##### PyLibraries"
   ]
  },
  {
   "cell_type": "code",
   "execution_count": 135,
   "metadata": {},
   "outputs": [],
   "source": [
    "import pandas as pd\n",
    "import  sqlite3\n",
    "from fuzzywuzzy import fuzz\n",
    "from fuzzywuzzy import process"
   ]
  },
  {
   "cell_type": "markdown",
   "metadata": {},
   "source": [
    "##### Loading Dataset"
   ]
  },
  {
   "cell_type": "code",
   "execution_count": 173,
   "metadata": {},
   "outputs": [],
   "source": [
    "df = pd.read_csv('data.tsv', sep ='\\t')"
   ]
  },
  {
   "cell_type": "markdown",
   "metadata": {},
   "source": [
    "##### Get Table Information\n"
   ]
  },
  {
   "cell_type": "code",
   "execution_count": 174,
   "metadata": {},
   "outputs": [
    {
     "data": {
      "text/plain": [
       "(157482, 7)"
      ]
     },
     "execution_count": 174,
     "metadata": {},
     "output_type": "execute_result"
    }
   ],
   "source": [
    "df.shape"
   ]
  },
  {
   "cell_type": "code",
   "execution_count": 175,
   "metadata": {},
   "outputs": [
    {
     "data": {
      "text/plain": [
       "Index(['name', 'jobs', 'start_end', 'institution', 'production',\n",
       "       'publication_date', 'type'],\n",
       "      dtype='object')"
      ]
     },
     "execution_count": 175,
     "metadata": {},
     "output_type": "execute_result"
    }
   ],
   "source": [
    "df.columns"
   ]
  },
  {
   "cell_type": "code",
   "execution_count": 176,
   "metadata": {},
   "outputs": [
    {
     "data": {
      "text/plain": [
       "name                object\n",
       "jobs                object\n",
       "start_end           object\n",
       "institution         object\n",
       "production          object\n",
       "publication_date    object\n",
       "type                object\n",
       "dtype: object"
      ]
     },
     "execution_count": 176,
     "metadata": {},
     "output_type": "execute_result"
    }
   ],
   "source": [
    "df.dtypes"
   ]
  },
  {
   "cell_type": "code",
   "execution_count": 177,
   "metadata": {
    "scrolled": true
   },
   "outputs": [
    {
     "name": "stdout",
     "output_type": "stream",
     "text": [
      "<class 'pandas.core.frame.DataFrame'>\n",
      "RangeIndex: 157482 entries, 0 to 157481\n",
      "Data columns (total 7 columns):\n",
      "name                157482 non-null object\n",
      "jobs                157482 non-null object\n",
      "start_end           157482 non-null object\n",
      "institution         157482 non-null object\n",
      "production          157482 non-null object\n",
      "publication_date    157482 non-null object\n",
      "type                157482 non-null object\n",
      "dtypes: object(7)\n",
      "memory usage: 8.4+ MB\n"
     ]
    }
   ],
   "source": [
    "df.info()"
   ]
  },
  {
   "cell_type": "code",
   "execution_count": 178,
   "metadata": {},
   "outputs": [
    {
     "data": {
      "text/html": [
       "<div>\n",
       "<style scoped>\n",
       "    .dataframe tbody tr th:only-of-type {\n",
       "        vertical-align: middle;\n",
       "    }\n",
       "\n",
       "    .dataframe tbody tr th {\n",
       "        vertical-align: top;\n",
       "    }\n",
       "\n",
       "    .dataframe thead th {\n",
       "        text-align: right;\n",
       "    }\n",
       "</style>\n",
       "<table border=\"1\" class=\"dataframe\">\n",
       "  <thead>\n",
       "    <tr style=\"text-align: right;\">\n",
       "      <th></th>\n",
       "      <th>name</th>\n",
       "      <th>jobs</th>\n",
       "      <th>start_end</th>\n",
       "      <th>institution</th>\n",
       "      <th>production</th>\n",
       "      <th>publication_date</th>\n",
       "      <th>type</th>\n",
       "    </tr>\n",
       "  </thead>\n",
       "  <tbody>\n",
       "    <tr>\n",
       "      <th>0</th>\n",
       "      <td>Alexis</td>\n",
       "      <td>Insurance broker</td>\n",
       "      <td>2008-09-10|nill</td>\n",
       "      <td>Faulkner-Fox University</td>\n",
       "      <td>Phased impactful capability</td>\n",
       "      <td>17-12-1994</td>\n",
       "      <td>journal</td>\n",
       "    </tr>\n",
       "    <tr>\n",
       "      <th>1</th>\n",
       "      <td>Brian</td>\n",
       "      <td>Interpreter</td>\n",
       "      <td>2009-11-28|nill</td>\n",
       "      <td>Reynolds PLC Research Institute</td>\n",
       "      <td>Multi-layered hybrid moderator</td>\n",
       "      <td>08-03-1978</td>\n",
       "      <td>Other</td>\n",
       "    </tr>\n",
       "    <tr>\n",
       "      <th>2</th>\n",
       "      <td>Rebecca Duncan</td>\n",
       "      <td>Geophysical data processor</td>\n",
       "      <td>2010-05-21|2018-05-28</td>\n",
       "      <td>Morris-Copeland University</td>\n",
       "      <td>Optional real-time Graphical User Interface</td>\n",
       "      <td>2016-09-01</td>\n",
       "      <td>article</td>\n",
       "    </tr>\n",
       "    <tr>\n",
       "      <th>3</th>\n",
       "      <td>Joanne</td>\n",
       "      <td>Futures trader</td>\n",
       "      <td>2009-09-14|nill</td>\n",
       "      <td>Robertson, Edwards and Wang University</td>\n",
       "      <td>Universal tertiary access</td>\n",
       "      <td>29-04-2007</td>\n",
       "      <td>journal</td>\n",
       "    </tr>\n",
       "    <tr>\n",
       "      <th>4</th>\n",
       "      <td>Justin</td>\n",
       "      <td>Therapist, occupational</td>\n",
       "      <td>2008-05-14|nill</td>\n",
       "      <td>Robinson LLC Company</td>\n",
       "      <td>Optional empowering monitoring</td>\n",
       "      <td>06-03-2017</td>\n",
       "      <td>jornal</td>\n",
       "    </tr>\n",
       "  </tbody>\n",
       "</table>\n",
       "</div>"
      ],
      "text/plain": [
       "             name                        jobs              start_end  \\\n",
       "0          Alexis            Insurance broker        2008-09-10|nill   \n",
       "1           Brian                 Interpreter        2009-11-28|nill   \n",
       "2  Rebecca Duncan  Geophysical data processor  2010-05-21|2018-05-28   \n",
       "3          Joanne              Futures trader        2009-09-14|nill   \n",
       "4          Justin     Therapist, occupational        2008-05-14|nill   \n",
       "\n",
       "                              institution  \\\n",
       "0                 Faulkner-Fox University   \n",
       "1         Reynolds PLC Research Institute   \n",
       "2              Morris-Copeland University   \n",
       "3  Robertson, Edwards and Wang University   \n",
       "4                    Robinson LLC Company   \n",
       "\n",
       "                                    production publication_date     type  \n",
       "0                  Phased impactful capability       17-12-1994  journal  \n",
       "1               Multi-layered hybrid moderator       08-03-1978    Other  \n",
       "2  Optional real-time Graphical User Interface       2016-09-01  article  \n",
       "3                    Universal tertiary access       29-04-2007  journal  \n",
       "4               Optional empowering monitoring       06-03-2017   jornal  "
      ]
     },
     "execution_count": 178,
     "metadata": {},
     "output_type": "execute_result"
    }
   ],
   "source": [
    "df.head(5)"
   ]
  },
  {
   "cell_type": "markdown",
   "metadata": {},
   "source": [
    "##### Cleaning and Tidying Data"
   ]
  },
  {
   "cell_type": "markdown",
   "metadata": {},
   "source": [
    "##### * Adjusting the datatime * "
   ]
  },
  {
   "cell_type": "code",
   "execution_count": 179,
   "metadata": {},
   "outputs": [],
   "source": [
    "df['publication_date'] = pd.to_datetime(df.publication_date)"
   ]
  },
  {
   "cell_type": "markdown",
   "metadata": {},
   "source": [
    "##### * First letter of a lowercase string - Column 'Type' * "
   ]
  },
  {
   "cell_type": "code",
   "execution_count": 180,
   "metadata": {},
   "outputs": [],
   "source": [
    "df['type'] = df['type'].str.capitalize()"
   ]
  },
  {
   "cell_type": "markdown",
   "metadata": {},
   "source": [
    "##### * Separating start and end columns- Column 'start_end' * "
   ]
  },
  {
   "cell_type": "code",
   "execution_count": 181,
   "metadata": {},
   "outputs": [],
   "source": [
    "df[['start','end']] = df.start_end.str.split(\"|\",expand=True,)"
   ]
  },
  {
   "cell_type": "markdown",
   "metadata": {},
   "source": [
    "##### * Deleting column start_end* \n",
    "\n"
   ]
  },
  {
   "cell_type": "code",
   "execution_count": 182,
   "metadata": {},
   "outputs": [],
   "source": [
    "df.drop(df.columns[[2]], axis=1, inplace=True)"
   ]
  },
  {
   "cell_type": "markdown",
   "metadata": {},
   "source": [
    "##### * Adjusting columns 'jobs' - delete comma * "
   ]
  },
  {
   "cell_type": "code",
   "execution_count": 183,
   "metadata": {},
   "outputs": [],
   "source": [
    "df['jobs'] = df['jobs'].replace(',', '', regex=True)"
   ]
  },
  {
   "cell_type": "code",
   "execution_count": 184,
   "metadata": {},
   "outputs": [],
   "source": [
    "df['jobs'] = df['jobs'].str.capitalize()"
   ]
  },
  {
   "cell_type": "markdown",
   "metadata": {},
   "source": [
    "\n",
    "##### * Adjusting columns 'institution' delete '-' * "
   ]
  },
  {
   "cell_type": "code",
   "execution_count": 185,
   "metadata": {},
   "outputs": [],
   "source": [
    "df['institution'] = df['institution'].replace('-', ' ', regex=True)"
   ]
  },
  {
   "cell_type": "code",
   "execution_count": 186,
   "metadata": {},
   "outputs": [],
   "source": [
    "df['institution'] = df['institution'].str.title()"
   ]
  },
  {
   "cell_type": "markdown",
   "metadata": {},
   "source": [
    "##### * Adjusting differences in the dataframe - Column 'Type' * \n"
   ]
  },
  {
   "cell_type": "code",
   "execution_count": 187,
   "metadata": {},
   "outputs": [
    {
     "ename": "SyntaxError",
     "evalue": "unexpected EOF while parsing (<ipython-input-187-7c099fe78e71>, line 6)",
     "output_type": "error",
     "traceback": [
      "\u001b[0;36m  File \u001b[0;32m\"<ipython-input-187-7c099fe78e71>\"\u001b[0;36m, line \u001b[0;32m6\u001b[0m\n\u001b[0;31m    \u001b[0m\n\u001b[0m    ^\u001b[0m\n\u001b[0;31mSyntaxError\u001b[0m\u001b[0;31m:\u001b[0m unexpected EOF while parsing\n"
     ]
    }
   ],
   "source": [
    "listOfTypes = ['Articles', 'Book', 'Article', 'Other']\n",
    "for i in listOfTypes:\n",
    "    for j in df.type.items():\n",
    "        #Pra printar a similaridade é so tirar o comentário\n",
    "        #print ('{}, {}, Similarity: {}'. format(i,j[1], fuzz.partial_token_sort_ratio(i,j)))\n",
    "        \n"
   ]
  },
  {
   "cell_type": "code",
   "execution_count": 188,
   "metadata": {},
   "outputs": [
    {
     "data": {
      "text/html": [
       "<div>\n",
       "<style scoped>\n",
       "    .dataframe tbody tr th:only-of-type {\n",
       "        vertical-align: middle;\n",
       "    }\n",
       "\n",
       "    .dataframe tbody tr th {\n",
       "        vertical-align: top;\n",
       "    }\n",
       "\n",
       "    .dataframe thead th {\n",
       "        text-align: right;\n",
       "    }\n",
       "</style>\n",
       "<table border=\"1\" class=\"dataframe\">\n",
       "  <thead>\n",
       "    <tr style=\"text-align: right;\">\n",
       "      <th></th>\n",
       "      <th>name</th>\n",
       "      <th>jobs</th>\n",
       "      <th>institution</th>\n",
       "      <th>production</th>\n",
       "      <th>publication_date</th>\n",
       "      <th>type</th>\n",
       "      <th>start</th>\n",
       "      <th>end</th>\n",
       "    </tr>\n",
       "  </thead>\n",
       "  <tbody>\n",
       "    <tr>\n",
       "      <th>0</th>\n",
       "      <td>Alexis</td>\n",
       "      <td>Insurance broker</td>\n",
       "      <td>Faulkner Fox University</td>\n",
       "      <td>Phased impactful capability</td>\n",
       "      <td>1994-12-17</td>\n",
       "      <td>Journal</td>\n",
       "      <td>2008-09-10</td>\n",
       "      <td>nill</td>\n",
       "    </tr>\n",
       "    <tr>\n",
       "      <th>1</th>\n",
       "      <td>Brian</td>\n",
       "      <td>Interpreter</td>\n",
       "      <td>Reynolds Plc Research Institute</td>\n",
       "      <td>Multi-layered hybrid moderator</td>\n",
       "      <td>1978-08-03</td>\n",
       "      <td>Other</td>\n",
       "      <td>2009-11-28</td>\n",
       "      <td>nill</td>\n",
       "    </tr>\n",
       "    <tr>\n",
       "      <th>2</th>\n",
       "      <td>Rebecca Duncan</td>\n",
       "      <td>Geophysical data processor</td>\n",
       "      <td>Morris Copeland University</td>\n",
       "      <td>Optional real-time Graphical User Interface</td>\n",
       "      <td>2016-09-01</td>\n",
       "      <td>Article</td>\n",
       "      <td>2010-05-21</td>\n",
       "      <td>2018-05-28</td>\n",
       "    </tr>\n",
       "    <tr>\n",
       "      <th>3</th>\n",
       "      <td>Joanne</td>\n",
       "      <td>Futures trader</td>\n",
       "      <td>Robertson, Edwards And Wang University</td>\n",
       "      <td>Universal tertiary access</td>\n",
       "      <td>2007-04-29</td>\n",
       "      <td>Journal</td>\n",
       "      <td>2009-09-14</td>\n",
       "      <td>nill</td>\n",
       "    </tr>\n",
       "    <tr>\n",
       "      <th>4</th>\n",
       "      <td>Justin</td>\n",
       "      <td>Therapist occupational</td>\n",
       "      <td>Robinson Llc Company</td>\n",
       "      <td>Optional empowering monitoring</td>\n",
       "      <td>2017-06-03</td>\n",
       "      <td>Journal</td>\n",
       "      <td>2008-05-14</td>\n",
       "      <td>nill</td>\n",
       "    </tr>\n",
       "  </tbody>\n",
       "</table>\n",
       "</div>"
      ],
      "text/plain": [
       "             name                        jobs  \\\n",
       "0          Alexis            Insurance broker   \n",
       "1           Brian                 Interpreter   \n",
       "2  Rebecca Duncan  Geophysical data processor   \n",
       "3          Joanne              Futures trader   \n",
       "4          Justin      Therapist occupational   \n",
       "\n",
       "                              institution  \\\n",
       "0                 Faulkner Fox University   \n",
       "1         Reynolds Plc Research Institute   \n",
       "2              Morris Copeland University   \n",
       "3  Robertson, Edwards And Wang University   \n",
       "4                    Robinson Llc Company   \n",
       "\n",
       "                                    production publication_date     type  \\\n",
       "0                  Phased impactful capability       1994-12-17  Journal   \n",
       "1               Multi-layered hybrid moderator       1978-08-03    Other   \n",
       "2  Optional real-time Graphical User Interface       2016-09-01  Article   \n",
       "3                    Universal tertiary access       2007-04-29  Journal   \n",
       "4               Optional empowering monitoring       2017-06-03  Journal   \n",
       "\n",
       "        start         end  \n",
       "0  2008-09-10        nill  \n",
       "1  2009-11-28        nill  \n",
       "2  2010-05-21  2018-05-28  \n",
       "3  2009-09-14        nill  \n",
       "4  2008-05-14        nill  "
      ]
     },
     "execution_count": 188,
     "metadata": {},
     "output_type": "execute_result"
    }
   ],
   "source": [
    "df['type'] = df['type'].replace(['Artilce'], 'Article')\n",
    "df['type'] = df['type'].replace(['Jornal'], 'Journal')\n",
    "df.head(5)"
   ]
  },
  {
   "cell_type": "markdown",
   "metadata": {},
   "source": [
    "##### * Adjusting columns 'production' * "
   ]
  },
  {
   "cell_type": "code",
   "execution_count": 189,
   "metadata": {},
   "outputs": [],
   "source": [
    "df['production'] = df['production'].str.title()"
   ]
  },
  {
   "cell_type": "code",
   "execution_count": 190,
   "metadata": {},
   "outputs": [
    {
     "data": {
      "text/html": [
       "<div>\n",
       "<style scoped>\n",
       "    .dataframe tbody tr th:only-of-type {\n",
       "        vertical-align: middle;\n",
       "    }\n",
       "\n",
       "    .dataframe tbody tr th {\n",
       "        vertical-align: top;\n",
       "    }\n",
       "\n",
       "    .dataframe thead th {\n",
       "        text-align: right;\n",
       "    }\n",
       "</style>\n",
       "<table border=\"1\" class=\"dataframe\">\n",
       "  <thead>\n",
       "    <tr style=\"text-align: right;\">\n",
       "      <th></th>\n",
       "      <th>name</th>\n",
       "      <th>jobs</th>\n",
       "      <th>institution</th>\n",
       "      <th>production</th>\n",
       "      <th>publication_date</th>\n",
       "      <th>type</th>\n",
       "      <th>start</th>\n",
       "      <th>end</th>\n",
       "    </tr>\n",
       "  </thead>\n",
       "  <tbody>\n",
       "    <tr>\n",
       "      <th>0</th>\n",
       "      <td>Alexis</td>\n",
       "      <td>Insurance broker</td>\n",
       "      <td>Faulkner Fox University</td>\n",
       "      <td>Phased Impactful Capability</td>\n",
       "      <td>1994-12-17</td>\n",
       "      <td>Journal</td>\n",
       "      <td>2008-09-10</td>\n",
       "      <td>nill</td>\n",
       "    </tr>\n",
       "    <tr>\n",
       "      <th>1</th>\n",
       "      <td>Brian</td>\n",
       "      <td>Interpreter</td>\n",
       "      <td>Reynolds Plc Research Institute</td>\n",
       "      <td>Multi-Layered Hybrid Moderator</td>\n",
       "      <td>1978-08-03</td>\n",
       "      <td>Other</td>\n",
       "      <td>2009-11-28</td>\n",
       "      <td>nill</td>\n",
       "    </tr>\n",
       "    <tr>\n",
       "      <th>2</th>\n",
       "      <td>Rebecca Duncan</td>\n",
       "      <td>Geophysical data processor</td>\n",
       "      <td>Morris Copeland University</td>\n",
       "      <td>Optional Real-Time Graphical User Interface</td>\n",
       "      <td>2016-09-01</td>\n",
       "      <td>Article</td>\n",
       "      <td>2010-05-21</td>\n",
       "      <td>2018-05-28</td>\n",
       "    </tr>\n",
       "    <tr>\n",
       "      <th>3</th>\n",
       "      <td>Joanne</td>\n",
       "      <td>Futures trader</td>\n",
       "      <td>Robertson, Edwards And Wang University</td>\n",
       "      <td>Universal Tertiary Access</td>\n",
       "      <td>2007-04-29</td>\n",
       "      <td>Journal</td>\n",
       "      <td>2009-09-14</td>\n",
       "      <td>nill</td>\n",
       "    </tr>\n",
       "    <tr>\n",
       "      <th>4</th>\n",
       "      <td>Justin</td>\n",
       "      <td>Therapist occupational</td>\n",
       "      <td>Robinson Llc Company</td>\n",
       "      <td>Optional Empowering Monitoring</td>\n",
       "      <td>2017-06-03</td>\n",
       "      <td>Journal</td>\n",
       "      <td>2008-05-14</td>\n",
       "      <td>nill</td>\n",
       "    </tr>\n",
       "  </tbody>\n",
       "</table>\n",
       "</div>"
      ],
      "text/plain": [
       "             name                        jobs  \\\n",
       "0          Alexis            Insurance broker   \n",
       "1           Brian                 Interpreter   \n",
       "2  Rebecca Duncan  Geophysical data processor   \n",
       "3          Joanne              Futures trader   \n",
       "4          Justin      Therapist occupational   \n",
       "\n",
       "                              institution  \\\n",
       "0                 Faulkner Fox University   \n",
       "1         Reynolds Plc Research Institute   \n",
       "2              Morris Copeland University   \n",
       "3  Robertson, Edwards And Wang University   \n",
       "4                    Robinson Llc Company   \n",
       "\n",
       "                                    production publication_date     type  \\\n",
       "0                  Phased Impactful Capability       1994-12-17  Journal   \n",
       "1               Multi-Layered Hybrid Moderator       1978-08-03    Other   \n",
       "2  Optional Real-Time Graphical User Interface       2016-09-01  Article   \n",
       "3                    Universal Tertiary Access       2007-04-29  Journal   \n",
       "4               Optional Empowering Monitoring       2017-06-03  Journal   \n",
       "\n",
       "        start         end  \n",
       "0  2008-09-10        nill  \n",
       "1  2009-11-28        nill  \n",
       "2  2010-05-21  2018-05-28  \n",
       "3  2009-09-14        nill  \n",
       "4  2008-05-14        nill  "
      ]
     },
     "execution_count": 190,
     "metadata": {},
     "output_type": "execute_result"
    }
   ],
   "source": [
    "df.head(5)"
   ]
  },
  {
   "cell_type": "markdown",
   "metadata": {},
   "source": [
    "##### Database - SQLite3\n",
    "###### Writing to a SQLite database \n",
    "\n"
   ]
  },
  {
   "cell_type": "code",
   "execution_count": 169,
   "metadata": {},
   "outputs": [],
   "source": [
    "con = sqlite3.connect(\"db.sqlite\") \n",
    "con.execute (\"DROP TABLE IF EXISTS engineertest\" ) \n",
    "df.to_sql (\"engineertest\", con)"
   ]
  },
  {
   "cell_type": "markdown",
   "metadata": {},
   "source": [
    "###### Reading data from SQL databases \n"
   ]
  },
  {
   "cell_type": "code",
   "execution_count": 191,
   "metadata": {},
   "outputs": [
    {
     "name": "stdout",
     "output_type": "stream",
     "text": [
      "Opened database successfully\n"
     ]
    }
   ],
   "source": [
    "con = sqlite3.connect(\"db.sqlite\")\n",
    "print(\"Opened database successfully\")\n",
    "df = pd.read_sql(\"SELECT * from engineertest order by publication_date desc\", con)\n",
    "df['publication_date'] = pd.to_datetime(df.publication_date)"
   ]
  },
  {
   "cell_type": "code",
   "execution_count": 192,
   "metadata": {
    "scrolled": true
   },
   "outputs": [
    {
     "data": {
      "text/html": [
       "<div>\n",
       "<style scoped>\n",
       "    .dataframe tbody tr th:only-of-type {\n",
       "        vertical-align: middle;\n",
       "    }\n",
       "\n",
       "    .dataframe tbody tr th {\n",
       "        vertical-align: top;\n",
       "    }\n",
       "\n",
       "    .dataframe thead th {\n",
       "        text-align: right;\n",
       "    }\n",
       "</style>\n",
       "<table border=\"1\" class=\"dataframe\">\n",
       "  <thead>\n",
       "    <tr style=\"text-align: right;\">\n",
       "      <th></th>\n",
       "      <th>level_0</th>\n",
       "      <th>index</th>\n",
       "      <th>name</th>\n",
       "      <th>jobs</th>\n",
       "      <th>institution</th>\n",
       "      <th>production</th>\n",
       "      <th>publication_date</th>\n",
       "      <th>type</th>\n",
       "      <th>start</th>\n",
       "      <th>end</th>\n",
       "    </tr>\n",
       "  </thead>\n",
       "  <tbody>\n",
       "    <tr>\n",
       "      <th>0</th>\n",
       "      <td>0</td>\n",
       "      <td>35977</td>\n",
       "      <td>Daniel</td>\n",
       "      <td>Retail banker</td>\n",
       "      <td>Smith, Rosales And Conley Company</td>\n",
       "      <td>Decentralized Demand-Driven Concept</td>\n",
       "      <td>2019-12-02</td>\n",
       "      <td>Article</td>\n",
       "      <td>2009-10-22</td>\n",
       "      <td>nill</td>\n",
       "    </tr>\n",
       "    <tr>\n",
       "      <th>1</th>\n",
       "      <td>1</td>\n",
       "      <td>39400</td>\n",
       "      <td>David</td>\n",
       "      <td>Engineer materials</td>\n",
       "      <td>Hanson Group University</td>\n",
       "      <td>Grass-Roots Empowering Protocol</td>\n",
       "      <td>2019-12-02</td>\n",
       "      <td>Book</td>\n",
       "      <td>2011-01-29</td>\n",
       "      <td>nill</td>\n",
       "    </tr>\n",
       "    <tr>\n",
       "      <th>2</th>\n",
       "      <td>2</td>\n",
       "      <td>52176</td>\n",
       "      <td>Jordan</td>\n",
       "      <td>Chief operating officer</td>\n",
       "      <td>Cantrell, Henry And Boyd University</td>\n",
       "      <td>Open-Source Non-Volatile Adapter</td>\n",
       "      <td>2019-12-02</td>\n",
       "      <td>Article</td>\n",
       "      <td>2009-07-04</td>\n",
       "      <td>nill</td>\n",
       "    </tr>\n",
       "    <tr>\n",
       "      <th>3</th>\n",
       "      <td>3</td>\n",
       "      <td>54997</td>\n",
       "      <td>Susan</td>\n",
       "      <td>Microbiologist</td>\n",
       "      <td>Whitehead, Cross And Moses Company</td>\n",
       "      <td>Team-Oriented Attitude-Oriented Array</td>\n",
       "      <td>2019-12-02</td>\n",
       "      <td>Other</td>\n",
       "      <td>2012-06-21</td>\n",
       "      <td>nill</td>\n",
       "    </tr>\n",
       "    <tr>\n",
       "      <th>4</th>\n",
       "      <td>4</td>\n",
       "      <td>87709</td>\n",
       "      <td>Valerie</td>\n",
       "      <td>Proofreader</td>\n",
       "      <td>Hunter Williams Research Institute</td>\n",
       "      <td>Diverse Intermediate Paradigm</td>\n",
       "      <td>2019-12-02</td>\n",
       "      <td>Book</td>\n",
       "      <td>2011-07-21</td>\n",
       "      <td>nill</td>\n",
       "    </tr>\n",
       "  </tbody>\n",
       "</table>\n",
       "</div>"
      ],
      "text/plain": [
       "   level_0  index     name                     jobs  \\\n",
       "0        0  35977   Daniel            Retail banker   \n",
       "1        1  39400    David       Engineer materials   \n",
       "2        2  52176   Jordan  Chief operating officer   \n",
       "3        3  54997    Susan           Microbiologist   \n",
       "4        4  87709  Valerie              Proofreader   \n",
       "\n",
       "                           institution                             production  \\\n",
       "0    Smith, Rosales And Conley Company    Decentralized Demand-Driven Concept   \n",
       "1              Hanson Group University        Grass-Roots Empowering Protocol   \n",
       "2  Cantrell, Henry And Boyd University       Open-Source Non-Volatile Adapter   \n",
       "3   Whitehead, Cross And Moses Company  Team-Oriented Attitude-Oriented Array   \n",
       "4   Hunter Williams Research Institute          Diverse Intermediate Paradigm   \n",
       "\n",
       "  publication_date     type       start   end  \n",
       "0       2019-12-02  Article  2009-10-22  nill  \n",
       "1       2019-12-02     Book  2011-01-29  nill  \n",
       "2       2019-12-02  Article  2009-07-04  nill  \n",
       "3       2019-12-02    Other  2012-06-21  nill  \n",
       "4       2019-12-02     Book  2011-07-21  nill  "
      ]
     },
     "execution_count": 192,
     "metadata": {},
     "output_type": "execute_result"
    }
   ],
   "source": [
    "df.head(5)"
   ]
  },
  {
   "cell_type": "markdown",
   "metadata": {},
   "source": [
    "###### Design SQL databases\n",
    "\n"
   ]
  },
  {
   "cell_type": "code",
   "execution_count": null,
   "metadata": {},
   "outputs": [],
   "source": []
  }
 ],
 "metadata": {
  "kernelspec": {
   "display_name": "Python 3",
   "language": "python",
   "name": "python3"
  },
  "language_info": {
   "codemirror_mode": {
    "name": "ipython",
    "version": 3
   },
   "file_extension": ".py",
   "mimetype": "text/x-python",
   "name": "python",
   "nbconvert_exporter": "python",
   "pygments_lexer": "ipython3",
   "version": "3.7.2"
  }
 },
 "nbformat": 4,
 "nbformat_minor": 2
}
