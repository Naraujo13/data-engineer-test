{
 "cells": [
  {
   "cell_type": "markdown",
   "metadata": {},
   "source": [
    "## Teste para Engenheiro de Dados - Indeorum\n",
    "### Candidato: Victor Barros\n"
   ]
  },
  {
   "cell_type": "markdown",
   "metadata": {},
   "source": [
    "##### Install Libraries"
   ]
  },
  {
   "cell_type": "code",
   "execution_count": 1,
   "metadata": {},
   "outputs": [
    {
     "name": "stdout",
     "output_type": "stream",
     "text": [
      "Requirement already satisfied: pandas in /usr/local/lib/python2.7/site-packages (0.24.1)\n",
      "Requirement already satisfied: python-dateutil>=2.5.0 in /usr/local/lib/python2.7/site-packages (from pandas) (2.7.3)\n",
      "Requirement already satisfied: numpy>=1.12.0 in /usr/local/lib/python2.7/site-packages (from pandas) (1.15.0)\n",
      "Requirement already satisfied: pytz>=2011k in /usr/local/lib/python2.7/site-packages (from pandas) (2018.5)\n",
      "Requirement already satisfied: six>=1.5 in /usr/local/lib/python2.7/site-packages (from python-dateutil>=2.5.0->pandas) (1.11.0)\n",
      "Requirement already satisfied: fuzzywuzzy in /usr/local/lib/python2.7/site-packages (0.17.0)\n",
      "Requirement already satisfied: fuzzywuzzy[speedup] in /usr/local/lib/python2.7/site-packages (0.17.0)\n",
      "Requirement already satisfied: python-levenshtein>=0.12; extra == \"speedup\" in /usr/local/lib/python2.7/site-packages (from fuzzywuzzy[speedup]) (0.12.0)\n",
      "Requirement already satisfied: setuptools in /usr/local/lib/python2.7/site-packages (from python-levenshtein>=0.12; extra == \"speedup\"->fuzzywuzzy[speedup]) (40.6.3)\n"
     ]
    }
   ],
   "source": [
    "!pip install pandas\n",
    "!pip install fuzzywuzzy\n",
    "!pip install fuzzywuzzy[speedup]\n"
   ]
  },
  {
   "cell_type": "markdown",
   "metadata": {},
   "source": [
    "##### PyLibraries"
   ]
  },
  {
   "cell_type": "code",
   "execution_count": 1,
   "metadata": {},
   "outputs": [],
   "source": [
    "import pandas as pd\n",
    "from fuzzywuzzy import fuzz\n",
    "from fuzzywuzzy import process"
   ]
  },
  {
   "cell_type": "markdown",
   "metadata": {},
   "source": [
    "##### Loading Dataset"
   ]
  },
  {
   "cell_type": "code",
   "execution_count": 83,
   "metadata": {},
   "outputs": [],
   "source": [
    "df = pd.read_csv('data.tsv', sep ='\\t')"
   ]
  },
  {
   "cell_type": "code",
   "execution_count": 84,
   "metadata": {},
   "outputs": [
    {
     "data": {
      "text/html": [
       "<div>\n",
       "<style scoped>\n",
       "    .dataframe tbody tr th:only-of-type {\n",
       "        vertical-align: middle;\n",
       "    }\n",
       "\n",
       "    .dataframe tbody tr th {\n",
       "        vertical-align: top;\n",
       "    }\n",
       "\n",
       "    .dataframe thead th {\n",
       "        text-align: right;\n",
       "    }\n",
       "</style>\n",
       "<table border=\"1\" class=\"dataframe\">\n",
       "  <thead>\n",
       "    <tr style=\"text-align: right;\">\n",
       "      <th></th>\n",
       "      <th>name</th>\n",
       "      <th>jobs</th>\n",
       "      <th>start_end</th>\n",
       "      <th>institution</th>\n",
       "      <th>production</th>\n",
       "      <th>publication_date</th>\n",
       "      <th>type</th>\n",
       "    </tr>\n",
       "  </thead>\n",
       "  <tbody>\n",
       "    <tr>\n",
       "      <th>0</th>\n",
       "      <td>Alexis</td>\n",
       "      <td>Insurance broker</td>\n",
       "      <td>2008-09-10|nill</td>\n",
       "      <td>Faulkner-Fox University</td>\n",
       "      <td>Phased impactful capability</td>\n",
       "      <td>17-12-1994</td>\n",
       "      <td>journal</td>\n",
       "    </tr>\n",
       "    <tr>\n",
       "      <th>1</th>\n",
       "      <td>Brian</td>\n",
       "      <td>Interpreter</td>\n",
       "      <td>2009-11-28|nill</td>\n",
       "      <td>Reynolds PLC Research Institute</td>\n",
       "      <td>Multi-layered hybrid moderator</td>\n",
       "      <td>08-03-1978</td>\n",
       "      <td>Other</td>\n",
       "    </tr>\n",
       "    <tr>\n",
       "      <th>2</th>\n",
       "      <td>Rebecca Duncan</td>\n",
       "      <td>Geophysical data processor</td>\n",
       "      <td>2010-05-21|2018-05-28</td>\n",
       "      <td>Morris-Copeland University</td>\n",
       "      <td>Optional real-time Graphical User Interface</td>\n",
       "      <td>2016-09-01</td>\n",
       "      <td>article</td>\n",
       "    </tr>\n",
       "    <tr>\n",
       "      <th>3</th>\n",
       "      <td>Joanne</td>\n",
       "      <td>Futures trader</td>\n",
       "      <td>2009-09-14|nill</td>\n",
       "      <td>Robertson, Edwards and Wang University</td>\n",
       "      <td>Universal tertiary access</td>\n",
       "      <td>29-04-2007</td>\n",
       "      <td>journal</td>\n",
       "    </tr>\n",
       "    <tr>\n",
       "      <th>4</th>\n",
       "      <td>Justin</td>\n",
       "      <td>Therapist, occupational</td>\n",
       "      <td>2008-05-14|nill</td>\n",
       "      <td>Robinson LLC Company</td>\n",
       "      <td>Optional empowering monitoring</td>\n",
       "      <td>06-03-2017</td>\n",
       "      <td>jornal</td>\n",
       "    </tr>\n",
       "    <tr>\n",
       "      <th>5</th>\n",
       "      <td>Emma Wheeler</td>\n",
       "      <td>Counselling psychologist</td>\n",
       "      <td>2011-01-16|2017-05-28</td>\n",
       "      <td>Brown-Williams Research Institute</td>\n",
       "      <td>Implemented encompassing project</td>\n",
       "      <td>2018-09-30</td>\n",
       "      <td>other</td>\n",
       "    </tr>\n",
       "    <tr>\n",
       "      <th>6</th>\n",
       "      <td>Henry</td>\n",
       "      <td>Surveyor, building control</td>\n",
       "      <td>2008-05-09|nill</td>\n",
       "      <td>Thomas Ltd Research Institute</td>\n",
       "      <td>Devolved mobile knowledgebase</td>\n",
       "      <td>13-08-2009</td>\n",
       "      <td>Other</td>\n",
       "    </tr>\n",
       "    <tr>\n",
       "      <th>7</th>\n",
       "      <td>Christopher Wilson</td>\n",
       "      <td>Psychologist, sport and exercise</td>\n",
       "      <td>2009-12-02|2018-11-13</td>\n",
       "      <td>Jordan-Watts Company</td>\n",
       "      <td>Secured context-sensitive artificial intelligence</td>\n",
       "      <td>2018-11-08</td>\n",
       "      <td>book</td>\n",
       "    </tr>\n",
       "    <tr>\n",
       "      <th>8</th>\n",
       "      <td>Kiara Flores</td>\n",
       "      <td>Surgeon</td>\n",
       "      <td>2010-05-27|2014-04-14</td>\n",
       "      <td>West-Walton Research Institute</td>\n",
       "      <td>Compatible national system engine</td>\n",
       "      <td>2016-12-23</td>\n",
       "      <td>journal</td>\n",
       "    </tr>\n",
       "    <tr>\n",
       "      <th>9</th>\n",
       "      <td>Craig Hood</td>\n",
       "      <td>Drilling engineer</td>\n",
       "      <td>2012-10-21|2014-05-02</td>\n",
       "      <td>Obrien-Bailey University</td>\n",
       "      <td>Mandatory zero administration functionalities</td>\n",
       "      <td>2014-01-15</td>\n",
       "      <td>book</td>\n",
       "    </tr>\n",
       "    <tr>\n",
       "      <th>10</th>\n",
       "      <td>Cameron</td>\n",
       "      <td>Professor Emeritus</td>\n",
       "      <td>2011-02-06|nill</td>\n",
       "      <td>Perez, Hood and Herring University</td>\n",
       "      <td>Up-sized bottom-line productivity</td>\n",
       "      <td>25-03-1973</td>\n",
       "      <td>book</td>\n",
       "    </tr>\n",
       "    <tr>\n",
       "      <th>11</th>\n",
       "      <td>Ashley Harris</td>\n",
       "      <td>Scientist, research (physical sciences)</td>\n",
       "      <td>2010-05-03|2015-04-19</td>\n",
       "      <td>Day, Lindsey and Garner University</td>\n",
       "      <td>Stand-alone human-resource encoding</td>\n",
       "      <td>2015-12-30</td>\n",
       "      <td>book</td>\n",
       "    </tr>\n",
       "    <tr>\n",
       "      <th>12</th>\n",
       "      <td>Raymond</td>\n",
       "      <td>Designer, graphic</td>\n",
       "      <td>2012-05-19|nill</td>\n",
       "      <td>Hanson-Young Research Institute</td>\n",
       "      <td>Distributed hybrid benchmark</td>\n",
       "      <td>16-05-1974</td>\n",
       "      <td>jornal</td>\n",
       "    </tr>\n",
       "    <tr>\n",
       "      <th>13</th>\n",
       "      <td>Michelle Brown</td>\n",
       "      <td>Hospital doctor</td>\n",
       "      <td>2008-05-13|2015-08-09</td>\n",
       "      <td>Fisher, Vaughn and Anderson University</td>\n",
       "      <td>Virtual upward-trending pricing structure</td>\n",
       "      <td>2017-10-19</td>\n",
       "      <td>other</td>\n",
       "    </tr>\n",
       "    <tr>\n",
       "      <th>14</th>\n",
       "      <td>James</td>\n",
       "      <td>Office manager</td>\n",
       "      <td>2008-04-02|nill</td>\n",
       "      <td>Freeman, Mccoy and Martin University</td>\n",
       "      <td>Polarized system-worthy array</td>\n",
       "      <td>15-09-2004</td>\n",
       "      <td>jornal</td>\n",
       "    </tr>\n",
       "    <tr>\n",
       "      <th>15</th>\n",
       "      <td>Joseph</td>\n",
       "      <td>General practice doctor</td>\n",
       "      <td>2009-09-04|nill</td>\n",
       "      <td>Olsen-Hill University</td>\n",
       "      <td>Programmable 24/7 task-force</td>\n",
       "      <td>06-11-1999</td>\n",
       "      <td>Other</td>\n",
       "    </tr>\n",
       "    <tr>\n",
       "      <th>16</th>\n",
       "      <td>Erin Maxwell</td>\n",
       "      <td>Surveyor, mining</td>\n",
       "      <td>2009-01-05|2015-03-15</td>\n",
       "      <td>Ferguson, Patterson and Hughes University</td>\n",
       "      <td>Versatile composite functionalities</td>\n",
       "      <td>2009-05-13</td>\n",
       "      <td>book</td>\n",
       "    </tr>\n",
       "    <tr>\n",
       "      <th>17</th>\n",
       "      <td>Desiree Cunningham</td>\n",
       "      <td>Materials engineer</td>\n",
       "      <td>2011-01-19|2017-01-19</td>\n",
       "      <td>Patterson Group Company</td>\n",
       "      <td>User-friendly bi-directional moderator</td>\n",
       "      <td>2011-10-09</td>\n",
       "      <td>book</td>\n",
       "    </tr>\n",
       "    <tr>\n",
       "      <th>18</th>\n",
       "      <td>Jessica</td>\n",
       "      <td>Financial risk analyst</td>\n",
       "      <td>2012-12-27|nill</td>\n",
       "      <td>Ingram-Green Company</td>\n",
       "      <td>User-friendly holistic data-warehouse</td>\n",
       "      <td>01-08-1971</td>\n",
       "      <td>journal</td>\n",
       "    </tr>\n",
       "    <tr>\n",
       "      <th>19</th>\n",
       "      <td>David Newman</td>\n",
       "      <td>Insurance claims handler</td>\n",
       "      <td>2010-01-11|2015-07-10</td>\n",
       "      <td>Mcdonald, Castro and Moreno University</td>\n",
       "      <td>Open-source encompassing flexibility</td>\n",
       "      <td>2012-03-20</td>\n",
       "      <td>artilce</td>\n",
       "    </tr>\n",
       "  </tbody>\n",
       "</table>\n",
       "</div>"
      ],
      "text/plain": [
       "                  name                                     jobs  \\\n",
       "0               Alexis                         Insurance broker   \n",
       "1                Brian                              Interpreter   \n",
       "2       Rebecca Duncan               Geophysical data processor   \n",
       "3               Joanne                           Futures trader   \n",
       "4               Justin                  Therapist, occupational   \n",
       "5         Emma Wheeler                 Counselling psychologist   \n",
       "6                Henry               Surveyor, building control   \n",
       "7   Christopher Wilson         Psychologist, sport and exercise   \n",
       "8         Kiara Flores                                  Surgeon   \n",
       "9           Craig Hood                        Drilling engineer   \n",
       "10             Cameron                       Professor Emeritus   \n",
       "11       Ashley Harris  Scientist, research (physical sciences)   \n",
       "12             Raymond                        Designer, graphic   \n",
       "13      Michelle Brown                          Hospital doctor   \n",
       "14               James                           Office manager   \n",
       "15              Joseph                  General practice doctor   \n",
       "16        Erin Maxwell                         Surveyor, mining   \n",
       "17  Desiree Cunningham                       Materials engineer   \n",
       "18             Jessica                   Financial risk analyst   \n",
       "19        David Newman                 Insurance claims handler   \n",
       "\n",
       "                start_end                                institution  \\\n",
       "0         2008-09-10|nill                    Faulkner-Fox University   \n",
       "1         2009-11-28|nill            Reynolds PLC Research Institute   \n",
       "2   2010-05-21|2018-05-28                 Morris-Copeland University   \n",
       "3         2009-09-14|nill     Robertson, Edwards and Wang University   \n",
       "4         2008-05-14|nill                       Robinson LLC Company   \n",
       "5   2011-01-16|2017-05-28          Brown-Williams Research Institute   \n",
       "6         2008-05-09|nill              Thomas Ltd Research Institute   \n",
       "7   2009-12-02|2018-11-13                       Jordan-Watts Company   \n",
       "8   2010-05-27|2014-04-14             West-Walton Research Institute   \n",
       "9   2012-10-21|2014-05-02                   Obrien-Bailey University   \n",
       "10        2011-02-06|nill         Perez, Hood and Herring University   \n",
       "11  2010-05-03|2015-04-19         Day, Lindsey and Garner University   \n",
       "12        2012-05-19|nill            Hanson-Young Research Institute   \n",
       "13  2008-05-13|2015-08-09     Fisher, Vaughn and Anderson University   \n",
       "14        2008-04-02|nill       Freeman, Mccoy and Martin University   \n",
       "15        2009-09-04|nill                      Olsen-Hill University   \n",
       "16  2009-01-05|2015-03-15  Ferguson, Patterson and Hughes University   \n",
       "17  2011-01-19|2017-01-19                    Patterson Group Company   \n",
       "18        2012-12-27|nill                       Ingram-Green Company   \n",
       "19  2010-01-11|2015-07-10     Mcdonald, Castro and Moreno University   \n",
       "\n",
       "                                           production publication_date  \\\n",
       "0                         Phased impactful capability       17-12-1994   \n",
       "1                      Multi-layered hybrid moderator       08-03-1978   \n",
       "2         Optional real-time Graphical User Interface       2016-09-01   \n",
       "3                           Universal tertiary access       29-04-2007   \n",
       "4                      Optional empowering monitoring       06-03-2017   \n",
       "5                    Implemented encompassing project       2018-09-30   \n",
       "6                       Devolved mobile knowledgebase       13-08-2009   \n",
       "7   Secured context-sensitive artificial intelligence       2018-11-08   \n",
       "8                   Compatible national system engine       2016-12-23   \n",
       "9       Mandatory zero administration functionalities       2014-01-15   \n",
       "10                  Up-sized bottom-line productivity       25-03-1973   \n",
       "11                Stand-alone human-resource encoding       2015-12-30   \n",
       "12                       Distributed hybrid benchmark       16-05-1974   \n",
       "13          Virtual upward-trending pricing structure       2017-10-19   \n",
       "14                      Polarized system-worthy array       15-09-2004   \n",
       "15                       Programmable 24/7 task-force       06-11-1999   \n",
       "16                Versatile composite functionalities       2009-05-13   \n",
       "17             User-friendly bi-directional moderator       2011-10-09   \n",
       "18              User-friendly holistic data-warehouse       01-08-1971   \n",
       "19               Open-source encompassing flexibility       2012-03-20   \n",
       "\n",
       "       type  \n",
       "0   journal  \n",
       "1     Other  \n",
       "2   article  \n",
       "3   journal  \n",
       "4    jornal  \n",
       "5     other  \n",
       "6     Other  \n",
       "7      book  \n",
       "8   journal  \n",
       "9      book  \n",
       "10     book  \n",
       "11     book  \n",
       "12   jornal  \n",
       "13    other  \n",
       "14   jornal  \n",
       "15    Other  \n",
       "16     book  \n",
       "17     book  \n",
       "18  journal  \n",
       "19  artilce  "
      ]
     },
     "execution_count": 84,
     "metadata": {},
     "output_type": "execute_result"
    }
   ],
   "source": [
    "df.head(20)"
   ]
  },
  {
   "cell_type": "markdown",
   "metadata": {},
   "source": [
    "##### Get Table Information\n"
   ]
  },
  {
   "cell_type": "code",
   "execution_count": 85,
   "metadata": {},
   "outputs": [
    {
     "data": {
      "text/plain": [
       "(157482, 7)"
      ]
     },
     "execution_count": 85,
     "metadata": {},
     "output_type": "execute_result"
    }
   ],
   "source": [
    "df.shape"
   ]
  },
  {
   "cell_type": "code",
   "execution_count": 86,
   "metadata": {},
   "outputs": [
    {
     "data": {
      "text/plain": [
       "Index(['name', 'jobs', 'start_end', 'institution', 'production',\n",
       "       'publication_date', 'type'],\n",
       "      dtype='object')"
      ]
     },
     "execution_count": 86,
     "metadata": {},
     "output_type": "execute_result"
    }
   ],
   "source": [
    "df.columns"
   ]
  },
  {
   "cell_type": "code",
   "execution_count": 87,
   "metadata": {},
   "outputs": [
    {
     "data": {
      "text/plain": [
       "name                object\n",
       "jobs                object\n",
       "start_end           object\n",
       "institution         object\n",
       "production          object\n",
       "publication_date    object\n",
       "type                object\n",
       "dtype: object"
      ]
     },
     "execution_count": 87,
     "metadata": {},
     "output_type": "execute_result"
    }
   ],
   "source": [
    "df.dtypes"
   ]
  },
  {
   "cell_type": "code",
   "execution_count": 88,
   "metadata": {},
   "outputs": [
    {
     "name": "stdout",
     "output_type": "stream",
     "text": [
      "<class 'pandas.core.frame.DataFrame'>\n",
      "RangeIndex: 157482 entries, 0 to 157481\n",
      "Data columns (total 7 columns):\n",
      "name                157482 non-null object\n",
      "jobs                157482 non-null object\n",
      "start_end           157482 non-null object\n",
      "institution         157482 non-null object\n",
      "production          157482 non-null object\n",
      "publication_date    157482 non-null object\n",
      "type                157482 non-null object\n",
      "dtypes: object(7)\n",
      "memory usage: 8.4+ MB\n"
     ]
    }
   ],
   "source": [
    "df.info()"
   ]
  },
  {
   "cell_type": "markdown",
   "metadata": {},
   "source": [
    "##### Cleaning and Tidying Data"
   ]
  },
  {
   "cell_type": "markdown",
   "metadata": {},
   "source": [
    "##### * Adjusting the datatime * "
   ]
  },
  {
   "cell_type": "code",
   "execution_count": 89,
   "metadata": {},
   "outputs": [],
   "source": [
    "df['publication_date'] = pd.to_datetime(df.publication_date)"
   ]
  },
  {
   "cell_type": "markdown",
   "metadata": {},
   "source": [
    "##### * First letter of a lowercase string - Column 'Type' * "
   ]
  },
  {
   "cell_type": "code",
   "execution_count": 90,
   "metadata": {},
   "outputs": [],
   "source": [
    "df['type'] = df['type'].str.capitalize()"
   ]
  },
  {
   "cell_type": "markdown",
   "metadata": {},
   "source": [
    "##### * Separating start and end columns- Column 'start_end' * "
   ]
  },
  {
   "cell_type": "code",
   "execution_count": 92,
   "metadata": {},
   "outputs": [],
   "source": [
    "df[['start','end']] = df.start_end.str.split(\"|\",expand=True,)"
   ]
  },
  {
   "cell_type": "markdown",
   "metadata": {},
   "source": [
    "##### * Deleting column start_end* \n",
    "\n"
   ]
  },
  {
   "cell_type": "code",
   "execution_count": 76,
   "metadata": {},
   "outputs": [],
   "source": [
    "df.drop(df.columns[[2]], axis=1, inplace=True)"
   ]
  },
  {
   "cell_type": "code",
   "execution_count": null,
   "metadata": {},
   "outputs": [],
   "source": []
  }
 ],
 "metadata": {
  "kernelspec": {
   "display_name": "Python 3",
   "language": "python",
   "name": "python3"
  },
  "language_info": {
   "codemirror_mode": {
    "name": "ipython",
    "version": 3
   },
   "file_extension": ".py",
   "mimetype": "text/x-python",
   "name": "python",
   "nbconvert_exporter": "python",
   "pygments_lexer": "ipython3",
   "version": "3.7.2"
  }
 },
 "nbformat": 4,
 "nbformat_minor": 2
}
